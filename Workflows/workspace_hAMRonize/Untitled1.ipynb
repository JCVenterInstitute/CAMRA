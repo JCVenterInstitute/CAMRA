{
 "cells": [
  {
   "cell_type": "code",
   "execution_count": 1,
   "id": "b615cc9b-03c6-4659-aeaa-045ce1401813",
   "metadata": {},
   "outputs": [],
   "source": [
    "# Import Packages\n",
    "import pandas as pd\n",
    "from collections import Counter\n",
    "import sys"
   ]
  },
  {
   "cell_type": "code",
   "execution_count": 2,
   "id": "68bf3853-d936-49e4-82f2-ae24c3a6d7b7",
   "metadata": {},
   "outputs": [],
   "source": [
    "# Import Data\n",
    "# file = sys.argv[1]\n",
    "# hamr_output = pd.read_table(file)\n",
    "# print(\"PY file imported\", file)\n",
    "hamr_output = pd.read_table('hAMRonization_output/hamronize_amr_output.tsv',sep='\\t')"
   ]
  },
  {
   "cell_type": "code",
   "execution_count": null,
   "id": "91dbfc53-4f8a-4e38-afec-87a60101b148",
   "metadata": {},
   "outputs": [],
   "source": [
    "def clean_df(hamr_output):\n",
    "    # 1 Sepreate the resfinder output produced by reads. These do not have a input_sequence_id as it was generated from reads and not contigs.\n",
    "    read_resfinder = hamr_output[hamr_output['input_sequence_id'].isna()]\n",
    "\n",
    "    # 2 NEW DF FROM RESFINDER THAT DOES HAVE CONTIGS (AMS). These do have a input_sequence_id because they come from contigs, but it is not in the correct format. \n",
    "    # eg \"CCI165_S85_contig_8 length 181163 coverage 173.9 normalized_cov 0.95\" becomes \"CCI165_S85_contig_8\"\n",
    "    asm_resfinder = hamr_output[(hamr_output['analysis_software_name']=='resfinder') & (hamr_output['input_sequence_id'].notna())]\n",
    "    asm_resfinder.loc[:, 'input_sequence_id'] = asm_resfinder['input_sequence_id'].str.split().str[0]\n",
    "    "
   ]
  }
 ],
 "metadata": {
  "kernelspec": {
   "display_name": "Python 3 (ipykernel)",
   "language": "python",
   "name": "python3"
  },
  "language_info": {
   "codemirror_mode": {
    "name": "ipython",
    "version": 3
   },
   "file_extension": ".py",
   "mimetype": "text/x-python",
   "name": "python",
   "nbconvert_exporter": "python",
   "pygments_lexer": "ipython3",
   "version": "3.10.8"
  }
 },
 "nbformat": 4,
 "nbformat_minor": 5
}
